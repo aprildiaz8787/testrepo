{
 "cells": [
  {
   "cell_type": "markdown",
   "id": "ecb9bdff",
   "metadata": {},
   "source": [
    "# H1: Data Science Tools and Ecosystem"
   ]
  },
  {
   "cell_type": "markdown",
   "id": "584a0757",
   "metadata": {},
   "source": [
    "In this notebook, Data Science Tools and Ecosystem are summarized. "
   ]
  },
  {
   "cell_type": "markdown",
   "id": "f8d82d43",
   "metadata": {},
   "source": [
    "Some of the popular languages that Data Scientists use are:"
   ]
  },
  {
   "cell_type": "markdown",
   "id": "43584e8a",
   "metadata": {},
   "source": [
    "1. Python\n",
    "2. R\n",
    "3. JavaScript\n",
    "4. Scala"
   ]
  },
  {
   "cell_type": "markdown",
   "id": "79f357ef",
   "metadata": {},
   "source": [
    "Some of the commonly used libraries used by Data Scientists Include:\n",
    "1. Tensorflow\n",
    "2. Pandas\n",
    "3. Theano"
   ]
  },
  {
   "cell_type": "markdown",
   "id": "d17c7031",
   "metadata": {},
   "source": [
    "|Data Science Tools|\n",
    "|------------------|\n",
    "|Git|\n",
    "|Apache|\n",
    "|Python|"
   ]
  },
  {
   "cell_type": "markdown",
   "id": "7581e14b",
   "metadata": {},
   "source": [
    "# H3: Below are a few example sof evaluation arithmetic expressions in Python\n"
   ]
  },
  {
   "cell_type": "code",
   "execution_count": 4,
   "id": "e26198c2",
   "metadata": {},
   "outputs": [
    {
     "data": {
      "text/plain": [
       "17"
      ]
     },
     "execution_count": 4,
     "metadata": {},
     "output_type": "execute_result"
    }
   ],
   "source": [
    "(3*4)+5\n",
    "#This is a simple arithmetic expression to multiply then add integers"
   ]
  },
  {
   "cell_type": "code",
   "execution_count": 5,
   "id": "a0a74b68",
   "metadata": {},
   "outputs": [
    {
     "data": {
      "text/plain": [
       "3.3333333333333335"
      ]
     },
     "execution_count": 5,
     "metadata": {},
     "output_type": "execute_result"
    }
   ],
   "source": [
    "200/60\n",
    "#This will convert 200 miutes to hours by dividing by 60"
   ]
  },
  {
   "cell_type": "markdown",
   "id": "0fcc6ecb",
   "metadata": {},
   "source": [
    "**Objectives**"
   ]
  },
  {
   "cell_type": "markdown",
   "id": "832b4b4a",
   "metadata": {},
   "source": [
    "- Python\n",
    "- R\n",
    "- Java"
   ]
  },
  {
   "cell_type": "markdown",
   "id": "602d541a",
   "metadata": {},
   "source": [
    "# H2: Author\n",
    "April Diaz"
   ]
  },
  {
   "cell_type": "code",
   "execution_count": null,
   "id": "0709755a",
   "metadata": {},
   "outputs": [],
   "source": []
  }
 ],
 "metadata": {
  "kernelspec": {
   "display_name": "Python 3 (ipykernel)",
   "language": "python",
   "name": "python3"
  },
  "language_info": {
   "codemirror_mode": {
    "name": "ipython",
    "version": 3
   },
   "file_extension": ".py",
   "mimetype": "text/x-python",
   "name": "python",
   "nbconvert_exporter": "python",
   "pygments_lexer": "ipython3",
   "version": "3.11.5"
  }
 },
 "nbformat": 4,
 "nbformat_minor": 5
}
